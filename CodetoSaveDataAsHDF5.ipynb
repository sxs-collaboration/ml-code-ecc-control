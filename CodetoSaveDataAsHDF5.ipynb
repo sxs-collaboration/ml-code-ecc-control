{
 "cells": [
  {
   "cell_type": "code",
   "execution_count": 5,
   "metadata": {},
   "outputs": [],
   "source": [
    "import glob\n",
    "import subprocess\n",
    "import h5py\n",
    "import json\n",
    "import matplotlib\n",
    "import matplotlib.pyplot as plt\n",
    "import numpy as np\n",
    "import pandas as pd\n",
    "from qgridnext import show_grid\n",
    "import os\n",
    "import re"
   ]
  },
  {
   "cell_type": "code",
   "execution_count": 6,
   "metadata": {},
   "outputs": [],
   "source": [
    "import sxs"
   ]
  },
  {
   "cell_type": "code",
   "execution_count": 7,
   "metadata": {},
   "outputs": [
    {
     "name": "stdout",
     "output_type": "stream",
     "text": [
      "\u001b[0m\u001b[01;34mCatalogAnalysis\u001b[0m/            \u001b[01;34mIncoming\u001b[0m/      \u001b[01;34mPublic\u001b[0m/\n",
      "changelog_md_content.json   Makefile       \u001b[01;34mPublicLinks\u001b[0m/\n",
      "changelog_md_format.json    \u001b[01;34mPrivate\u001b[0m/       README.md\n",
      "changelog_postprocess.json  \u001b[01;34mPrivateLinks\u001b[0m/  \u001b[01;34mtools\u001b[0m/\n"
     ]
    }
   ],
   "source": [
    "ls /groups/sxs/vtommasi/SimulationAnnex"
   ]
  },
  {
   "cell_type": "code",
   "execution_count": 8,
   "metadata": {},
   "outputs": [
    {
     "name": "stdout",
     "output_type": "stream",
     "text": [
      "2778\n"
     ]
    }
   ],
   "source": [
    "simulations = sxs.load(\"simulations\", dir_annex=\"/groups/sxs/vtommasi/SimulationAnnex\")\n",
    "print(len(simulations))"
   ]
  },
  {
   "cell_type": "code",
   "execution_count": 9,
   "metadata": {},
   "outputs": [
    {
     "name": "stdout",
     "output_type": "stream",
     "text": [
      "Index(['deprecated', 'reference_time', 'reference_mass_ratio',\n",
      "       'reference_dimensionless_spin1', 'reference_dimensionless_spin1_mag',\n",
      "       'reference_dimensionless_spin2', 'reference_dimensionless_spin2_mag',\n",
      "       'reference_chi_eff', 'reference_chi1_perp', 'reference_chi2_perp',\n",
      "       'reference_eccentricity', 'reference_eccentricity_bound',\n",
      "       'reference_mean_anomaly', 'reference_orbital_frequency',\n",
      "       'reference_orbital_frequency_mag', 'reference_separation',\n",
      "       'reference_position1', 'reference_position2', 'reference_mass1',\n",
      "       'reference_mass2', 'reference_chi1_mag', 'reference_chi2_mag',\n",
      "       'relaxation_time', 'common_horizon_time', 'remnant_mass',\n",
      "       'remnant_dimensionless_spin', 'remnant_dimensionless_spin_mag',\n",
      "       'remnant_velocity', 'remnant_velocity_mag', 'EOS', 'disk_mass',\n",
      "       'ejecta_mass', 'object_types', 'initial_data_type',\n",
      "       'initial_separation', 'initial_orbital_frequency', 'initial_adot',\n",
      "       'initial_ADM_energy', 'initial_ADM_linear_momentum',\n",
      "       'initial_ADM_linear_momentum_mag', 'initial_ADM_angular_momentum',\n",
      "       'initial_ADM_angular_momentum_mag', 'initial_mass1', 'initial_mass2',\n",
      "       'initial_mass_ratio', 'initial_dimensionless_spin1',\n",
      "       'initial_dimensionless_spin1_mag', 'initial_dimensionless_spin2',\n",
      "       'initial_dimensionless_spin2_mag', 'initial_position1',\n",
      "       'initial_position2', 'number_of_orbits', 'number_of_orbits_from_start',\n",
      "       'number_of_orbits_from_reference_time', 'DOI_versions', 'keywords',\n",
      "       'date_link_earliest', 'date_run_earliest', 'date_run_latest',\n",
      "       'date_postprocessing'],\n",
      "      dtype='object')\n"
     ]
    }
   ],
   "source": [
    "# Characteristics we have available\n",
    "print(simulations.dataframe.columns)"
   ]
  },
  {
   "cell_type": "code",
   "execution_count": 10,
   "metadata": {},
   "outputs": [
    {
     "name": "stdout",
     "output_type": "stream",
     "text": [
      "Number of SKS BBH simulations is 2401\n"
     ]
    }
   ],
   "source": [
    "df=simulations.dataframe.reset_index() #The first column contains the names, but is also an index, so reset the index to access it as a regular column\n",
    "first_col = df.columns[0]\n",
    "\n",
    "#Filter to only keep BBH_SKS simulations\n",
    "df = df[df[\"initial_data_type\"].astype(str) == \"BBH_SKS\"]\n",
    "\n",
    "# Count the number of BBH_SKS simulations\n",
    "bbh_sks_count = df.shape[0]\n",
    "print(f\"Number of SKS BBH simulations is {bbh_sks_count}\")"
   ]
  },
  {
   "cell_type": "code",
   "execution_count": 12,
   "metadata": {},
   "outputs": [
    {
     "name": "stdout",
     "output_type": "stream",
     "text": [
      "Filtered DataFrame successfully saved as HDF5!\n"
     ]
    }
   ],
   "source": [
    "# Save simulations as HDF5\n",
    "# Some columns are arrays with multiple elements, so do this to keep all the values (converts each NumPy array into a string representation of a list)\n",
    "df[\"reference_dimensionless_spin1\"] = df[\"reference_dimensionless_spin1\"].apply(lambda x: str(x.tolist()) if isinstance(x, np.ndarray) else x)\n",
    "df[\"reference_dimensionless_spin2\"] = df[\"reference_dimensionless_spin2\"].apply(lambda x: str(x.tolist()) if isinstance(x, np.ndarray) else x)\n",
    "df[\"reference_orbital_frequency\"] = df[\"reference_orbital_frequency\"].apply(lambda x: str(x.tolist()) if isinstance(x, np.ndarray) else x)\n",
    "df[\"reference_position1\"] = df[\"reference_position1\"].apply(lambda x: str(x.tolist()) if isinstance(x, np.ndarray) else x)\n",
    "df[\"reference_position2\"] = df[\"reference_position2\"].apply(lambda x: str(x.tolist()) if isinstance(x, np.ndarray) else x)\n",
    "df[\"remnant_dimensionless_spin\"] = df[\"remnant_dimensionless_spin\"].apply(lambda x: str(x.tolist()) if isinstance(x, np.ndarray) else x)\n",
    "df[\"reference_dimensionless_spin1\"] = df[\"reference_dimensionless_spin1\"].apply(lambda x: str(x.tolist()) if isinstance(x, np.ndarray) else x)\n",
    "df[\"remnant_velocity\"] = df[\"remnant_velocity\"].apply(lambda x: str(x.tolist()) if isinstance(x, np.ndarray) else x)\n",
    "df[\"initial_ADM_linear_momentum\"] = df[\"initial_ADM_linear_momentum\"].apply(lambda x: str(x.tolist()) if isinstance(x, np.ndarray) else x)\n",
    "df[\"initial_ADM_angular_momentum\"] = df[\"initial_ADM_angular_momentum\"].apply(lambda x: str(x.tolist()) if isinstance(x, np.ndarray) else x)\n",
    "df[\"initial_dimensionless_spin1\"] = df[\"initial_dimensionless_spin1\"].apply(lambda x: str(x.tolist()) if isinstance(x, np.ndarray) else x)\n",
    "df[\"initial_dimensionless_spin2\"] = df[\"initial_dimensionless_spin2\"].apply(lambda x: str(x.tolist()) if isinstance(x, np.ndarray) else x)\n",
    "df[\"initial_position1\"] = df[\"initial_position1\"].apply(lambda x: str(x.tolist()) if isinstance(x, np.ndarray) else x)\n",
    "df[\"initial_position2\"] = df[\"initial_position2\"].apply(lambda x: str(x.tolist()) if isinstance(x, np.ndarray) else x)\n",
    "if \"superseded_by\" in df.columns:\n",
    "    df[\"superseded_by\"] = df[\"superseded_by\"].apply(lambda x: str(x) if not isinstance(x, str) else x)\n",
    "df[\"DOI_versions\"] = df[\"DOI_versions\"].apply(lambda x: ', '.join(x) if isinstance(x, list) else x)\n",
    "df[\"keywords\"] = df[\"keywords\"].apply(lambda x: ', '.join(x) if isinstance(x, list) else x)\n",
    "\n",
    "try:\n",
    "    df.to_hdf(\"filtered_simulations_2.h5\", key=\"filtered_data\", mode=\"w\", format=\"table\")\n",
    "    print(\"Filtered DataFrame successfully saved as HDF5!\")\n",
    "except Exception as e:\n",
    "    print(f\"Error saving filtered DataFrame as HDF5: {e}\")"
   ]
  }
 ],
 "metadata": {
  "kernelspec": {
   "display_name": "myenv",
   "language": "python",
   "name": "python3"
  },
  "language_info": {
   "codemirror_mode": {
    "name": "ipython",
    "version": 3
   },
   "file_extension": ".py",
   "mimetype": "text/x-python",
   "name": "python",
   "nbconvert_exporter": "python",
   "pygments_lexer": "ipython3",
   "version": "3.10.12"
  }
 },
 "nbformat": 4,
 "nbformat_minor": 2
}
